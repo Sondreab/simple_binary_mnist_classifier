{
 "cells": [
  {
   "cell_type": "markdown",
   "metadata": {},
   "source": [
    "# Assignment 1\n",
    "### Group 143\n",
    "- Martin Madsen (marmad@stud.ntnu.no) \n",
    "- Sondre Bergum (sondreab@stud.ntu.no)  \n",
    "  \n",
    "This assignment is based on the example provided as an assignment lecture for the beer rating classification. We prompted a student assistant whether it was allowed to use this as a base for the assignment, and received positive response. We have made changes to several of the functions to make them suit out problem."
   ]
  },
  {
   "cell_type": "markdown",
   "metadata": {},
   "source": [
    "### Task 1.1: Derive the gradient for Logistic Regression\n",
    "Show that \n",
    "$$\n",
    "-\\frac{\\partial E^n(w)}{\\partial w_j} = (t^n - y^n)x_j^n\n",
    "$$\n",
    "using \n",
    "$$\n",
    "\\frac{\\partial g_w^n}{\\partial w_j} = x_j^n g_w^n (1-g_w^n)\n",
    "$$\n",
    "\n",
    "where \n",
    "\n",
    "$$\n",
    "E(w) = -\\frac{1}{N} \\sum_{n=1}^{N} t^n \\ln(y^n) + (1 - t^n) \\ln(1 - y^n)\n",
    "\\\\\n",
    "y^n = g_w^n\n",
    "$$\n",
    "\n",
    "Answer:\n",
    "$$\n",
    "-\\frac{\\partial E^n(w)}{\\partial w_j} = -\\frac{\\partial E^n(w)}{\\partial g_w^n}\\frac{\\partial g_w^n}{\\partial w_j}\n",
    "$$\n",
    "  \n",
    "$$\n",
    "-\\frac{\\partial E^n(w)}{\\partial g_w^n} = \\frac{\\partial}{\\partial g_w^n}[t^n \\ln(g_w^n) + (1 - t^n) \\ln(1 - g_w^n)] \\\\\n",
    "= t^n \\frac{\\partial}{\\partial g_w^n}[\\ln(g_w^n)] + (1 - t^n) \\frac{\\partial}{\\partial g_w^n}[\\ln(1 - g_w^n)] \\\\\n",
    "= t^n \\frac{1}{g_w^n} - (1 - t^n) \\frac{1}{1 - g_w^n}\n",
    "$$\n",
    "\n",
    "$$\n",
    "-\\frac{\\partial E^n(w)}{\\partial g_w^n}\\frac{\\partial g_w^n}{\\partial w_j} = [t^n \\frac{1}{g_w^n} - (1 - t^n) \\frac{1}{1 - g_w^n}][x_j^n g_w^n (1-g_w^n)] \\\\\n",
    "= x_j^n (t^n - y^n)\n",
    "$$\n",
    "\n",
    "### Task 1.2\n",
    "Found at the end\n",
    "![](task1.2.jpg)"
   ]
  },
  {
   "cell_type": "markdown",
   "metadata": {},
   "source": [
    "## Task 2"
   ]
  },
  {
   "cell_type": "markdown",
   "metadata": {},
   "source": [
    "### Task 2.1\n",
    "#### a)\n",
    "The plot for the losses can be found as output from Ipython cell nr [14].\n",
    "This is generated using linear regression with annealing learning rate and early stopping. The assignment text stated we were looking for a smooth curve, but this seemed hard to achieve using annealing learning rate. Without it however, using a very low and static learning rate (about $\\alpha = 0.000001$) smooth curves were achievable. This is probably due to the tuning of the annealing equation and the hyperparameters it's dependent upon.\n",
    "\n",
    "#### b)\n",
    "The plot for percent correctly classified samples can be found as the output of the Ipython cell nr [15].\n",
    "There is a typo in the assignment text. As we changed the $Y_{train}$ labels for the \"2\"s to \"1\" and \"3\"s to 0, the classification is correct for \"2\"s if output is $\\geq 0.5$ and correct for \"3\" if output $< 0.5$. (not $\\leq 0.5$ for \"2\" like in the text)."
   ]
  },
  {
   "cell_type": "markdown",
   "metadata": {},
   "source": [
    "### Task 2.2\n",
    "#### a)\n",
    "$$\n",
    "w_{t+1} = w_t - \\alpha \\sum_{n=1}^{N} \\frac{\\partial J^n(w)}{\\partial w}\n",
    "$$\n",
    "where\n",
    "$$\n",
    "J(w) = E(w) + \\lambda C(w)\n",
    "$$\n",
    "and for $L_2$ regularization\n",
    "$$\n",
    "C(w) = ||w||^2 = w^T w\n",
    "$$\n",
    "so\n",
    "$$\n",
    "\\frac{\\partial C(w)}{\\partial w} = 2 w\n",
    "$$\n",
    "\n",
    "The regularized cross entorpy loss-function is found in Ipython cell nr [6]\n",
    "\n",
    "#### b)\n",
    "Plot can be found as the output of Ipython cell nr [17]. We see that $\\lambda = 0.001$ gives a good accuracy, while also stopping quite early with the early stopping check.\n",
    "\n",
    "### Task 3 Softmax can be found at the end\n"
   ]
  },
  {
   "cell_type": "code",
   "execution_count": 1,
   "metadata": {},
   "outputs": [],
   "source": [
    "import numpy as np\n",
    "import mnist\n",
    "import matplotlib.pyplot as plt # Plotting library\n",
    "\n",
    "#mnist.init() #Run only if you do not have the data downloaded\n",
    "X_train, Y_train, X_test, Y_test = mnist.load()\n"
   ]
  },
  {
   "cell_type": "code",
   "execution_count": 2,
   "metadata": {},
   "outputs": [],
   "source": [
    "#Splitting into smaller development sets\n",
    "X_train = X_train[:20000]\n",
    "Y_train = Y_train[:20000]\n",
    "X_test = X_test[8000:]\n",
    "Y_test = Y_test[8000:]\n",
    "\n",
    "\n",
    "#Bias trick on every picture\n",
    "X_train = np.insert(X_train,784,1, axis=1)\n",
    "X_test = np.insert(X_test,784,1,axis=1)"
   ]
  },
  {
   "cell_type": "code",
   "execution_count": 3,
   "metadata": {},
   "outputs": [],
   "source": [
    "#Shaping the data\n",
    "#Removing all pictures that are not 2's or 3's\n",
    "index_set = []\n",
    "for i in range(0,Y_train.size):\n",
    "    if ((Y_train[i] != 2) and (Y_train[i] != 3)):\n",
    "        index_set.append(i)\n",
    "        \n",
    "#print(index_set)\n",
    "Y_train = np.delete(Y_train,index_set)\n",
    "Y_train = Y_train.reshape(Y_train.size,1) #dimension mismatch hotfix\n",
    "X_train = np.delete(X_train,index_set,axis=0)\n",
    "\n",
    "#Binary classification 2's are 1, 3's are zero\n",
    "for i in range(Y_train.size):\n",
    "    if Y_train[i] == 2:\n",
    "        Y_train[i] = 1\n",
    "    else:\n",
    "        Y_train[i] = 0\n",
    "        \n",
    "index_set_test = []\n",
    "for i in range(0,Y_test.size):\n",
    "    if ((Y_test[i] != 2) and (Y_test[i] != 3)):\n",
    "        index_set_test.append(i)\n",
    "        \n",
    "#print(index_set)\n",
    "Y_test = np.delete(Y_test,index_set_test)\n",
    "Y_test = Y_test.reshape(Y_test.size,1) #dimension mismatch hotfix\n",
    "X_test = np.delete(X_test,index_set_test,axis=0)\n",
    "\n",
    "#Binary classification 2's are 1, 3's are zero\n",
    "for i in range(Y_test.size):\n",
    "    if Y_test[i] == 2:\n",
    "        Y_test[i] = 1\n",
    "    else:\n",
    "        Y_test[i] = 0\n",
    "\n",
    "#Splitting train into train and validation\n",
    "end = Y_train.size\n",
    "start = int(Y_train.size * 0.9)\n",
    "\n",
    "X_val = X_train[start:end]\n",
    "Y_val = Y_train[start:end]\n",
    "\n",
    "X_train = X_train[:start]\n",
    "Y_train = Y_train[:start]\n",
    "\n",
    "#print(Y_train)\n"
   ]
  },
  {
   "cell_type": "code",
   "execution_count": 4,
   "metadata": {},
   "outputs": [
    {
     "name": "stdout",
     "output_type": "stream",
     "text": [
      "72\n"
     ]
    }
   ],
   "source": [
    "# Hyperparameters\n",
    "epochs = 500\n",
    "batch_size = 50\n",
    "learning_rate_0 = 0.00001\n",
    "learning_rate = 0.0000001\n",
    "T = 10\n",
    "regularization_lambda = 0.01\n",
    "\n",
    "# Tracking variables\n",
    "TRAIN_LOSS = []\n",
    "VAL_LOSS = []\n",
    "TEST_LOSS = []\n",
    "TRAINING_STEP = []\n",
    "num_features = X_train.shape[1]\n",
    "\n",
    "TRAIN_CORRECT_PERCENT = []\n",
    "TEST_CORRECT_PERCENT = []\n",
    "VAL_CORRECT_PERCENT = []\n",
    "\n",
    "\n",
    "num_batches_per_epoch = X_train.shape[0] // batch_size\n",
    "print(num_batches_per_epoch)\n",
    "check_step = num_batches_per_epoch // 10 # How often we should calculate validation / train loss"
   ]
  },
  {
   "cell_type": "markdown",
   "metadata": {},
   "source": [
    "### Cross Entropy Loss\n",
    "$$\n",
    "E(w) = -\\frac{1}{N} \\sum_{n=1}^{N} t^n \\ln(y^n) + (1 - t^n) \\ln(1 - y^n)\n",
    "$$"
   ]
  },
  {
   "cell_type": "code",
   "execution_count": 5,
   "metadata": {},
   "outputs": [],
   "source": [
    "#The cross entropy loss function E(w)\n",
    "def cel_loss(targets, outputs):\n",
    "    assert targets.shape == outputs.shape\n",
    "    entropy_loss = targets*np.log(outputs) + (np.subtract(np.ones(targets.shape),targets))*(np.log(np.subtract(np.ones(outputs.shape),outputs)))\n",
    "    #print((targets*np.log(outputs)).shape)\n",
    "    #print(((np.subtract(np.ones(targets.shape),targets))*(np.log(np.subtract(np.ones(outputs.shape),outputs)))).shape)\n",
    "    #print(entropy_loss.shape)\n",
    "    \n",
    "    mean_entropy_loss = -entropy_loss.mean()\n",
    "    #print(mean_entropy_loss)\n",
    "    return mean_entropy_loss"
   ]
  },
  {
   "cell_type": "code",
   "execution_count": 6,
   "metadata": {},
   "outputs": [],
   "source": [
    "#The cross entropy loss function E(w)\n",
    "def cel_loss_regularized(targets, outputs, weights, param):\n",
    "    assert targets.shape == outputs.shape\n",
    "    entropy_loss = targets*np.log(outputs) + (np.subtract(np.ones(targets.shape),targets))*(np.log(np.subtract(np.ones(outputs.shape),outputs)))\n",
    "    \n",
    "    mean_entropy_loss = -entropy_loss.mean()\n",
    "    \n",
    "    weights= np.reshape(weights,weights.size)\n",
    "    regularized_loss = mean_entropy_loss +param*np.dot(weights,weights)\n",
    "    \n",
    "    return regularized_loss"
   ]
  },
  {
   "cell_type": "markdown",
   "metadata": {},
   "source": [
    "### Forward pass\n",
    "-This is the sigmoid function\n",
    "$$\n",
    "y = g_w(x) = \\frac{1}{1+ e^{-w^T x}}\n",
    "$$"
   ]
  },
  {
   "cell_type": "code",
   "execution_count": 7,
   "metadata": {},
   "outputs": [],
   "source": [
    "def forward_pass(X, w):\n",
    "    output = 1.0/(1+np.e**-X.dot(w))\n",
    "    return output"
   ]
  },
  {
   "cell_type": "markdown",
   "metadata": {},
   "source": [
    "### Objective function used in gradient descent\n",
    "$$\n",
    "w_{t+1} = w_t - \\alpha \\sum_{n=1}^{N} \\frac{\\partial E^n(w)}{\\partial w}\n",
    "$$"
   ]
  },
  {
   "cell_type": "code",
   "execution_count": 8,
   "metadata": {},
   "outputs": [],
   "source": [
    "def gradient_decent(X, outputs, targets, weights, learning_rate):\n",
    "  N = X.shape[0]\n",
    "  # Important to check that your vectors/matrices have the expected shape\n",
    "  assert outputs.shape == targets.shape\n",
    "\n",
    "  dw = X * (targets-outputs)\n",
    "  dw = dw.mean(axis = 0).reshape(-1, 1) # Normalize gradient w.r.t number of training samples\n",
    "  assert dw.shape == weights.shape, \"dw: {}, w: {}\".format(dw.shape, weights.shape)\n",
    "  weights = weights + learning_rate * dw\n",
    "  return weights"
   ]
  },
  {
   "cell_type": "code",
   "execution_count": 9,
   "metadata": {},
   "outputs": [],
   "source": [
    "def gradient_decent_regularized(X, outputs, targets, weights, learning_rate, param):\n",
    "  N = X.shape[0]\n",
    "  # Important to check that your vectors/matrices have the expected shape\n",
    "  assert outputs.shape == targets.shape\n",
    "\n",
    "  \n",
    "  dw = X * (targets-outputs) + np.transpose(2*param*weights) \n",
    "  dw = dw.mean(axis = 0).reshape(-1, 1) # Normalize gradient w.r.t number of training samples\n",
    "  assert dw.shape == weights.shape, \"dw: {}, w: {}\".format(dw.shape, weights.shape)\n",
    "  weights = weights + learning_rate * dw\n",
    "\n",
    "  #print(\"decent\")\n",
    "  #print(weights.shape)\n",
    "  return weights"
   ]
  },
  {
   "cell_type": "code",
   "execution_count": 10,
   "metadata": {},
   "outputs": [],
   "source": [
    "def early_stop(VAL_LOSS):\n",
    "    if VAL_LOSS[len(VAL_LOSS)-1]>VAL_LOSS[len(VAL_LOSS)-2]:\n",
    "        return True\n",
    "    return False"
   ]
  },
  {
   "cell_type": "code",
   "execution_count": 11,
   "metadata": {},
   "outputs": [],
   "source": [
    "def unison_shuffled_copies(a, b):\n",
    "    assert len(a) == len(b)\n",
    "    p = np.random.permutation(len(a))\n",
    "    return a[p], b[p]"
   ]
  },
  {
   "cell_type": "markdown",
   "metadata": {},
   "source": [
    "### Annealing Learning Rate\n",
    "The initial learning rate suggested by the assignment text, $\\alpha = 0.0001$ was causing us to have troubles. We found $\\alpha_0 = 0.00001$ to be acceptable and using an annealing formula with T = 10:\n",
    "$$\n",
    "\\alpha(t) = \\frac{\\alpha_0}{1+\\frac{t}{T}}\n",
    "$$"
   ]
  },
  {
   "cell_type": "code",
   "execution_count": 12,
   "metadata": {},
   "outputs": [],
   "source": [
    "def anneal_learning_rate(training_it):\n",
    "    alpha_t = learning_rate_0/(1+(training_it/T))\n",
    "    return alpha_t"
   ]
  },
  {
   "cell_type": "code",
   "execution_count": 13,
   "metadata": {},
   "outputs": [
    {
     "name": "stdout",
     "output_type": "stream",
     "text": [
      "Early stopping Triggered!\n",
      "656\n"
     ]
    }
   ],
   "source": [
    "w = np.zeros((num_features, 1))\n",
    "\n",
    "def train_loop(w):\n",
    "  #print(w.shape)\n",
    "  training_it = 0\n",
    "  stop_condition_counter = 0\n",
    "  for epoch in range(epochs):\n",
    "    #shuffle(X_train, Y_train)\n",
    "    X_train_c, Y_train_c = unison_shuffled_copies(X_train, Y_train)\n",
    "    for i in range(num_batches_per_epoch):\n",
    "      \n",
    "      X_batch = X_train_c[i*batch_size:(i+1)*batch_size]\n",
    "      Y_batch = Y_train_c[i*batch_size:(i+1)*batch_size]\n",
    "\n",
    "      out = forward_pass(X_batch, w)\n",
    "      learning_rate = anneal_learning_rate(training_it)\n",
    "      w = gradient_decent(X_batch, out, Y_batch, w, learning_rate)\n",
    "      #print(out)\n",
    "      training_it += 1\n",
    "      if i % check_step == 0:\n",
    "        \n",
    "        # Training set\n",
    "        TRAINING_STEP.append(training_it)\n",
    "        \n",
    "        train_out = forward_pass(X_train, w)\n",
    "        train_loss = cel_loss(Y_train, train_out)\n",
    "        TRAIN_LOSS.append(train_loss)\n",
    "        \n",
    "        val_out = forward_pass(X_val, w)\n",
    "        val_loss = cel_loss(Y_val, val_out)\n",
    "        VAL_LOSS.append(val_loss)\n",
    "        \n",
    "        test_out = forward_pass(X_test, w)\n",
    "        test_loss = cel_loss(Y_test, test_out)\n",
    "        TEST_LOSS.append(test_loss)\n",
    "        \n",
    "        #plotting percentage of correct guesses\n",
    "        train_correct = 0\n",
    "        for i in range(Y_train.size):\n",
    "            if (Y_train[i] == 1 and train_out[i] >= 0.5) or (Y_train[i] == 0 and train_out[i] < 0.5):\n",
    "                train_correct +=1\n",
    "        TRAIN_CORRECT_PERCENT.append((train_correct / Y_train.size)*100)\n",
    "        \n",
    "        test_correct = 0\n",
    "        for i in range(Y_test.size):\n",
    "            if (Y_test[i] == 1 and test_out[i] >= 0.5) or (Y_test[i] == 0 and test_out[i] < 0.5):\n",
    "                test_correct +=1\n",
    "        TEST_CORRECT_PERCENT.append((test_correct / Y_test.size)*100)\n",
    "        \n",
    "        val_correct = 0\n",
    "        for i in range(Y_val.size):\n",
    "            if (Y_val[i] == 1 and val_out[i] >= 0.5) or (Y_val[i] == 0 and val_out[i] < 0.5):\n",
    "                val_correct +=1\n",
    "        VAL_CORRECT_PERCENT.append((val_correct / Y_val.size)*100)\n",
    "        \n",
    "        \n",
    "        if early_stop(VAL_LOSS):\n",
    "            stop_condition_counter += 1\n",
    "            if stop_condition_counter > 3:\n",
    "                print(\"Early stopping Triggered!\")\n",
    "                print(training_it)\n",
    "                return w\n",
    "        else:\n",
    "            stop_condition_counter = 0\n",
    "            \n",
    "\n",
    "  return w\n",
    "\n",
    "w = train_loop(w)\n",
    "    \n"
   ]
  },
  {
   "cell_type": "code",
   "execution_count": 14,
   "metadata": {
    "scrolled": false
   },
   "outputs": [
    {
     "data": {
      "text/plain": [
       "<matplotlib.legend.Legend at 0x1bd49b2f550>"
      ]
     },
     "execution_count": 14,
     "metadata": {},
     "output_type": "execute_result"
    },
    {
     "data": {
      "image/png": "[encoded data removed]",
      "text/plain": [
       "<Figure size 864x576 with 1 Axes>"
      ]
     },
     "metadata": {
      "needs_background": "light"
     },
     "output_type": "display_data"
    }
   ],
   "source": [
    "plt.figure(figsize=(12, 8 ))\n",
    "plt.ylim([0, 0.6])\n",
    "plt.xlabel(\"Training steps\")\n",
    "plt.ylabel(\"MSE Loss\")\n",
    "plt.plot(TRAINING_STEP, TRAIN_LOSS, label=\"Training loss\")\n",
    "plt.plot(TRAINING_STEP, VAL_LOSS, label=\"Validation loss\")\n",
    "plt.plot(TRAINING_STEP, TEST_LOSS, label=\"Test loss\")\n",
    "plt.legend() # Shows graph labels"
   ]
  },
  {
   "cell_type": "code",
   "execution_count": 15,
   "metadata": {},
   "outputs": [
    {
     "data": {
      "text/plain": [
       "<matplotlib.legend.Legend at 0x1bd49be45f8>"
      ]
     },
     "execution_count": 15,
     "metadata": {},
     "output_type": "execute_result"
    },
    {
     "data": {
      "image/png": "[encoded data removed]",
      "text/plain": [
       "<Figure size 864x576 with 1 Axes>"
      ]
     },
     "metadata": {
      "needs_background": "light"
     },
     "output_type": "display_data"
    }
   ],
   "source": [
    "plt.figure(figsize=(12, 8 ))\n",
    "plt.ylim([65, 100])\n",
    "plt.xlabel(\"Training steps\")\n",
    "plt.ylabel(\"Percent correct\")\n",
    "plt.plot(TRAINING_STEP, TRAIN_CORRECT_PERCENT, label=\"Training percent\")\n",
    "plt.plot(TRAINING_STEP, TEST_CORRECT_PERCENT, label=\"Test percent\")\n",
    "plt.plot(TRAINING_STEP, VAL_CORRECT_PERCENT, label=\"Validation percent\")\n",
    "\n",
    "plt.legend() # Shows graph labels"
   ]
  },
  {
   "cell_type": "code",
   "execution_count": 16,
   "metadata": {},
   "outputs": [
    {
     "name": "stdout",
     "output_type": "stream",
     "text": [
      "Early stopping Triggered!\n",
      "900\n",
      "Early stopping Triggered!\n",
      "115\n",
      "Early stopping Triggered!\n",
      "1109\n"
     ]
    }
   ],
   "source": [
    "#Regularized version\n",
    "w = np.zeros((num_features, 1))\n",
    "\n",
    "# Tracking variables\n",
    "\n",
    "\n",
    "TRAIN_LOSS = []\n",
    "VAL_LOSS = []\n",
    "TEST_LOSS = []\n",
    "TRAINING_STEP = []\n",
    "TRAIN_CORRECT_PERCENT = []\n",
    "TEST_CORRECT_PERCENT = []\n",
    "VAL_CORRECT_PERCENT = []\n",
    "\n",
    "\n",
    "def train_loop_regularized(w, reg_param):\n",
    "  #print(w.shape)\n",
    "  training_it = 0\n",
    "  stop_condition_counter = 0\n",
    "  for epoch in range(epochs):\n",
    "    #shuffle(X_train, Y_train)\n",
    "    X_train_c, Y_train_c = unison_shuffled_copies(X_train, Y_train)\n",
    "    for i in range(num_batches_per_epoch):\n",
    "      \n",
    "      X_batch = X_train_c[i*batch_size:(i+1)*batch_size]\n",
    "      Y_batch = Y_train_c[i*batch_size:(i+1)*batch_size]\n",
    "\n",
    "      out = forward_pass(X_batch, w)\n",
    "      learning_rate = anneal_learning_rate(training_it)\n",
    "      w = gradient_decent_regularized(X_batch, out, Y_batch, w, learning_rate, regularization_lambda)\n",
    "      #print(out)\n",
    "      training_it += 1\n",
    "      if i % check_step == 0:\n",
    "        \n",
    "        # Loss function values\n",
    "        TRAINING_STEP.append(training_it)\n",
    "        train_out = forward_pass(X_train, w)\n",
    "        train_loss = cel_loss_regularized(Y_train, train_out, w, regularization_lambda)\n",
    "        TRAIN_LOSS.append(train_loss)\n",
    "        val_out = forward_pass(X_val, w)\n",
    "        val_loss = cel_loss_regularized(Y_val, val_out, w, regularization_lambda)\n",
    "        VAL_LOSS.append(val_loss)\n",
    "        test_out = forward_pass(X_test, w)\n",
    "        test_loss = cel_loss_regularized(Y_test, test_out, w, regularization_lambda)\n",
    "        TEST_LOSS.append(test_loss)\n",
    "        \n",
    "        #plotting percentage of correct guesses\n",
    "        train_correct = 0\n",
    "        for i in range(Y_train.size):\n",
    "            if (Y_train[i] == 1 and train_out[i] >= 0.5) or (Y_train[i] == 0 and train_out[i] < 0.5):\n",
    "                train_correct +=1\n",
    "        TRAIN_CORRECT_PERCENT.append((train_correct / Y_train.size)*100)\n",
    "        test_correct = 0\n",
    "        for i in range(Y_test.size):\n",
    "            if (Y_test[i] == 1 and test_out[i] >= 0.5) or (Y_test[i] == 0 and test_out[i] < 0.5):\n",
    "                test_correct +=1\n",
    "        TEST_CORRECT_PERCENT.append((test_correct / Y_test.size)*100)\n",
    "        val_correct = 0\n",
    "        for i in range(Y_val.size):\n",
    "            if (Y_val[i] == 1 and val_out[i] >= 0.5) or (Y_val[i] == 0 and val_out[i] < 0.5):\n",
    "                val_correct +=1\n",
    "        VAL_CORRECT_PERCENT.append((val_correct / Y_val.size)*100)\n",
    "        \n",
    "        \n",
    "        \n",
    "        if early_stop(VAL_LOSS):\n",
    "            stop_condition_counter += 1\n",
    "            if stop_condition_counter > 3:\n",
    "                print(\"Early stopping Triggered!\")\n",
    "                print(training_it)\n",
    "                return w\n",
    "        else:\n",
    "            stop_condition_counter = 0\n",
    "            \n",
    "\n",
    "  return w\n",
    "\n",
    "\n",
    "#running multiple times with different regularization parameters\n",
    "regularization_array = [0.01, 0.001, 0.0001]\n",
    "\n",
    "VAL_CORRECT_ONE = []\n",
    "TRAINING_STEP_ONE = []\n",
    "VAL_CORRECT_TWO = []\n",
    "TRAINING_STEP_TWO = []\n",
    "VAL_CORRECT_THREE = []\n",
    "TRAINING_STEP_THREE = []\n",
    "for i in range(3):\n",
    "    w = np.zeros((num_features, 1))\n",
    "    w = train_loop_regularized(w, regularization_array[i])\n",
    "    if i == 0:\n",
    "        VAL_CORRECT_ONE = VAL_CORRECT_PERCENT\n",
    "        TRAINING_STEP_ONE = TRAINING_STEP\n",
    "    if i == 1:\n",
    "        VAL_CORRECT_TWO = VAL_CORRECT_PERCENT\n",
    "        TRAINING_STEP_TWO = TRAINING_STEP\n",
    "    if i == 2:\n",
    "        VAL_CORRECT_THREE = VAL_CORRECT_PERCENT\n",
    "        TRAINING_STEP_THREE = TRAINING_STEP\n",
    "    TRAIN_LOSS = []\n",
    "    VAL_LOSS = []\n",
    "    TEST_LOSS = []\n",
    "    TRAINING_STEP = []\n",
    "    TRAIN_CORRECT_PERCENT = []\n",
    "    TEST_CORRECT_PERCENT = []\n",
    "    VAL_CORRECT_PERCENT = []\n",
    "    \n"
   ]
  },
  {
   "cell_type": "code",
   "execution_count": 17,
   "metadata": {},
   "outputs": [
    {
     "data": {
      "text/plain": [
       "<matplotlib.legend.Legend at 0x1bd49fc9b70>"
      ]
     },
     "execution_count": 17,
     "metadata": {},
     "output_type": "execute_result"
    },
    {
     "data": {
      "image/png": "[encoded data removed]",
      "text/plain": [
       "<Figure size 864x576 with 1 Axes>"
      ]
     },
     "metadata": {
      "needs_background": "light"
     },
     "output_type": "display_data"
    }
   ],
   "source": [
    "plt.figure(figsize=(12, 8 ))\n",
    "plt.ylim([90, 100])\n",
    "plt.xlabel(\"Training steps\")\n",
    "plt.ylabel(\"Percent correct\")\n",
    "plt.plot(TRAINING_STEP_ONE, VAL_CORRECT_ONE, label=\"lambda=0.01\")\n",
    "plt.plot(TRAINING_STEP_TWO, VAL_CORRECT_TWO, label=\"lambda=0.001\")\n",
    "plt.plot(TRAINING_STEP_THREE, VAL_CORRECT_THREE, label=\"lambda=0.0001\")\n",
    "\n",
    "plt.legend() # Shows graph labels"
   ]
  }
 ],
 "metadata": {
  "kernelspec": {
   "display_name": "Python (tdt4265)",
   "language": "python",
   "name": "tdt4265"
  },
  "language_info": {
   "codemirror_mode": {
    "name": "ipython",
    "version": 3
   },
   "file_extension": ".py",
   "mimetype": "text/x-python",
   "name": "python",
   "nbconvert_exporter": "python",
   "pygments_lexer": "ipython3",
   "version": "3.6.7"
  }
 },
 "nbformat": 4,
 "nbformat_minor": 2
}
